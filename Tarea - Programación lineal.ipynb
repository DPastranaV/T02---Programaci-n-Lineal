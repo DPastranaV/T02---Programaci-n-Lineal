{
 "cells": [
  {
   "cell_type": "markdown",
   "metadata": {},
   "source": [
    "## Daniel Pastrana Vargas"
   ]
  },
  {
   "cell_type": "markdown",
   "metadata": {},
   "source": [
    "### 733982\n",
    "#### Ingeniería Financiera"
   ]
  },
  {
   "cell_type": "markdown",
   "metadata": {},
   "source": [
    "# Tarea - Programación lineal"
   ]
  },
  {
   "cell_type": "markdown",
   "metadata": {},
   "source": [
    "## Problema 1"
   ]
  },
  {
   "cell_type": "markdown",
   "metadata": {},
   "source": [
    "### Diseño de la Dieta Óptima\n",
    "\n",
    "Se quiere producir comida para gatos de la manera más barata, no obstante se debe también asegurar que se cumplan los datos requeridos de analisis nutricional. Por lo que se quiere variar la cantidad de cada ingrediente para cumplir con los estandares nutricionales. Los requisitos que se tienen es que en $100$ gramos, se deben tener **por lo menos** $8$ gramos de proteína y $6$ gramos de grasa. Así mismo, no se debe tener más de $2$ gramos de fibra y $0.4$ gramos de sal.  \n",
    "\n",
    "Los datos nutricionales se pueden obtener de la siguiente tabla:\n",
    "\n",
    "Ingrediente|Proteína|Grasa|Fibra|Sal\n",
    ":----|----|----|----|----\n",
    "Pollo|  10.0%|08.0%|00.1%|00.2%\n",
    "Carne|  20.0%|10.0%|00.5%|00.5%\n",
    "Cordero|15.0%|11.0%|00.5%|00.7%\n",
    "Arroz|  00.0%|01.0%|10.0%|00.2%\n",
    "Trigo|  04.0%|01.0%|15.0%|00.8%\n",
    "Gel|    00.0%|00.0%|00.0%|00.0%\n",
    "\n",
    "Los costos de cada producto son:\n",
    "\n",
    "Ingrediente|Costo por gramo\n",
    ":----|----\n",
    "Pollo|$\\$$0.013\n",
    "Carne|$\\$$0.008\n",
    "Cordero|$\\$$0.010\n",
    "Arroz|$\\$$0.002\n",
    "Trigo|$\\$$0.005\n",
    "Gel|$\\$$0.001    \n",
    "\n",
    "Lo que se busca optimizar en este caso es la cantidad de productos que se debe utilizar en la comida de gato, minimizando el costo total. Para simplificar la notación use las siguientes variables: \n",
    "\n",
    "+ $x_1:$ Gramos de pollo  \n",
    "+ $x_2:$ Gramos de carne  \n",
    "+ $x_3:$ Gramos de cordero  \n",
    "+ $x_4:$ Gramos de arroz  \n",
    "+ $x_5:$ Gramos de trigo  \n",
    "+ $x_6:$ Gramos de gel\n",
    "\n",
    "La tarea consiste en plantear el problemade programación lineal que permita satisfacer las necesidades alimenticias del gato al tiempo que minimice el costo total y resolverlo con `linprog`."
   ]
  },
  {
   "cell_type": "markdown",
   "metadata": {},
   "source": [
    "### Paso 1. Criterio de optimización:\n",
    "Hay que minimizar el costo de la comida del gato."
   ]
  },
  {
   "cell_type": "markdown",
   "metadata": {},
   "source": [
    "### Paso 2. Variables que afectan mi criterio de optimización y tengo control:\n",
    "Cantidad de producto en gramos que compro $(x_1, x_2, x_3, x_4, x_5, x_6)$."
   ]
  },
  {
   "cell_type": "markdown",
   "metadata": {},
   "source": [
    "### Paso 3. Función de costo:\n",
    "$$ f(x_1...x_6) = 0.013x_1 + 0.008x_2 + 0.010x_3 + 0.002x_4 + 0.005x_5 + 0.001x_6 $$"
   ]
  },
  {
   "cell_type": "markdown",
   "metadata": {},
   "source": [
    "### Paso 4. Restricciones:\n",
    "$$ 0.100x_1 + 0.200x_2 + 0.150x_3 + 0.040x_5 \\geq 8 $$\n",
    "$$ 0.080x_1 + 0.100x_2 + 0.110x_3 + 0.010x_4 + 0.010x_5 \\geq 6 $$\n",
    "$$ 0.001x_1 + 0.005x_2 + 0.005x_3 + 0.100x_4 + 0.150x_5 \\leq 2 $$\n",
    "$$ 0.002x_1 + 0.005x_2 + 0.007x_3 + 0.002x_4 + 0.008x_5 \\leq 0.4 $$"
   ]
  },
  {
   "cell_type": "code",
   "execution_count": 2,
   "metadata": {
    "scrolled": true
   },
   "outputs": [
    {
     "data": {
      "text/plain": [
       "           con: array([], dtype=float64)\n",
       " crossover_nit: 0\n",
       "         eqlin:  marginals: array([], dtype=float64)\n",
       "  residual: array([], dtype=float64)\n",
       "           fun: -2.6000000000000005\n",
       "       ineqlin:  marginals: array([-0. , -0. , -0. , -6.5])\n",
       "  residual: array([12. , 10. ,  1.8,  0. ])\n",
       "         lower:  marginals: array([0.    , 0.0245, 0.0355, 0.011 , 0.047 ])\n",
       "  residual: array([200.,   0.,   0.,   0.,   0.])\n",
       "       message: 'Optimization terminated successfully. (HiGHS Status 7: Optimal)'\n",
       "           nit: 4\n",
       "         slack: array([12. , 10. ,  1.8,  0. ])\n",
       "        status: 0\n",
       "       success: True\n",
       "         upper:  marginals: array([0., 0., 0., 0., 0.])\n",
       "  residual: array([inf, inf, inf, inf, inf])\n",
       "             x: array([200.,   0.,   0.,   0.,   0.])"
      ]
     },
     "execution_count": 2,
     "metadata": {},
     "output_type": "execute_result"
    }
   ],
   "source": [
    "import scipy.optimize as opt\n",
    "import numpy as np\n",
    "\n",
    "c = np.array([-0.013,\n",
    "              -0.008,\n",
    "              -0.010,\n",
    "              -0.002, \n",
    "              -0.005,\n",
    "             ])\n",
    "\n",
    "Aub = np.array([\n",
    "    [-0.100, -0.200, -0.150, 0.000, -0.040],\n",
    "    [-0.080, -0.100, -0.110, -0.010, -0.010],\n",
    "    [0.001, 0.005, 0.005, 0.100, 0.150],\n",
    "    [0.002, 0.005, 0.007, 0.002, 0.008]\n",
    "               ])\n",
    "\n",
    "bub = np.array([-8.0,\n",
    "                -6.0,\n",
    "                2.0,\n",
    "                0.4\n",
    "               ])\n",
    "\n",
    "opt.linprog (c, Aub, bub)"
   ]
  },
  {
   "cell_type": "markdown",
   "metadata": {},
   "source": [
    "La forma más barata de hacer la comida de gato, es usando 200 gramos de pollo, y nada más. El costo es de $2.6"
   ]
  },
  {
   "cell_type": "markdown",
   "metadata": {},
   "source": [
    "## Problema 2"
   ]
  },
  {
   "cell_type": "markdown",
   "metadata": {},
   "source": [
    "### Problema de distribución de energía eléctrica\n",
    "\n",
    "La Comisión Federal de Electricidad **(CFE)** dispone de cuatro plantas de generación para satisfacer la demanda diaria eléctrica en cuatro ciudades, Guadalajara, León y Morelia. Las plantas $1$, $2$ y $3$ pueden satisfacer $80$, $40$ y $60$ millones de KW al día respectivamente. Las necesidades de las ciudades de Guadalajara, León y Morelia son de $70$, $40$ y $70$ millones de Kw al día respectivamente. \n",
    "\n",
    "\n",
    "Los costos asociados al envío de suministro energético por cada millón de Kw entre cada planta y cada ciudad son los registrados en la siguiente tabla. \n",
    "\n",
    "-|Guadalajara|León|Morelia\n",
    ":----|----|----|----\n",
    "Planta 1|5|2|7\n",
    "Planta 2|3|6|6\n",
    "Planta 3|6|1|2\n",
    "\n",
    "Y por último, las restricciones del problema, van a estar dadas por las capacidades de oferta y demanda de cada planta (en millones de KW) y cada ciudad.\n",
    "\n",
    "Para simplificar la notación use las siguientes variables:\n",
    "\n",
    "+ $x_1$: Kw (en millones) distribuidos de la Planta 1 a Guadalajara\n",
    "+ $x_2$: Kw (en millones) distribuidos de la Planta 1 a León\n",
    "+ $x_3$: Kw (en millones) distribuidos de la Planta 1 a Morelia\n",
    "+ $x_4$: Kw (en millones) distribuidos de la Planta 2 a Guadalajara\n",
    "+ $x_5$: Kw (en millones) distribuidos de la Planta 2 a León\n",
    "+ $x_6$: Kw (en millones) distribuidos de la Planta 2 a Morelia\n",
    "+ $x_7$: Kw (en millones) distribuidos de la Planta 3 a Guadalajara\n",
    "+ $x_8$: Kw (en millones) distribuidos de la Planta 3 a León\n",
    "+ $x_9$: Kw (en millones) distribuidos de la Planta 3 a Morelia\n",
    "\n",
    "La tarea consiste en plantear el problema de programación lineal que permita satisfacer las necesidades de todas las ciudades al tiempo que minimice los costos asociados a la distribución y resolverlo con `linprog`."
   ]
  },
  {
   "cell_type": "markdown",
   "metadata": {},
   "source": [
    "### Paso 1. Criterio de optimización:\n",
    "Hay que minimizar los costos de distribución."
   ]
  },
  {
   "cell_type": "markdown",
   "metadata": {},
   "source": [
    "### Paso 2. Variables que afectan mi criterio de optimización y tengo control:\n",
    "Cantidad de producto en gramos que compro $(x_{AD}, x_{AE}, x_{AF}, x_{BD}, x_{BE}, x_{BF}, x_{CD}, x_{CE}, x_{CF})$."
   ]
  },
  {
   "cell_type": "markdown",
   "metadata": {},
   "source": [
    "### Paso 3. Función de costo:\n",
    "$$ f(x_{AD}...x_{CF}) = 5x_{AD} + 2x_{AE} + 7x_{AF} + 3x_{BD} + 6x_{BE} + 6x_{BF} + 6x_{CD} + x_{CE} + 2x_{CF} $$"
   ]
  },
  {
   "cell_type": "markdown",
   "metadata": {},
   "source": [
    "### Paso 4. Restricciones:\n",
    "Restricciones de la producción de kw:\n",
    "$$x_{AD} + x_{AE} + x_{AF} \\leq 80$$\n",
    "$$x_{BD} + x_{BE} + x_{BF} \\leq 40$$\n",
    "$$x_{CD} + x_{CE} + x_{CF} \\leq 60$$\n",
    "\n",
    "Restricciones de la necesidad de kw:\n",
    "$$x_{AD} + x_{BD} + x_{CD} \\geq 70$$\n",
    "$$x_{AE} + x_{BE} + x_{CE} \\geq 40$$\n",
    "$$x_{AF} + x_{BF} + x_{CF} \\geq 70$$"
   ]
  },
  {
   "cell_type": "code",
   "execution_count": 3,
   "metadata": {},
   "outputs": [
    {
     "data": {
      "text/plain": [
       "           con: array([0., 0., 0.])\n",
       " crossover_nit: 0\n",
       "         eqlin:  marginals: array([5., 2., 7.])\n",
       "  residual: array([0., 0., 0.])\n",
       "           fun: 540.0\n",
       "       ineqlin:  marginals: array([-0., -2., -5.])\n",
       "  residual: array([0., 0., 0.])\n",
       "         lower:  marginals: array([0., 0., 0., 0., 6., 1., 6., 4., 0.])\n",
       "  residual: array([30., 40., 10., 40.,  0.,  0.,  0.,  0., 60.])\n",
       "       message: 'Optimization terminated successfully. (HiGHS Status 7: Optimal)'\n",
       "           nit: 6\n",
       "         slack: array([0., 0., 0.])\n",
       "        status: 0\n",
       "       success: True\n",
       "         upper:  marginals: array([0., 0., 0., 0., 0., 0., 0., 0., 0.])\n",
       "  residual: array([inf, inf, inf, inf, inf, inf, inf, inf, inf])\n",
       "             x: array([30., 40., 10., 40.,  0.,  0.,  0.,  0., 60.])"
      ]
     },
     "execution_count": 3,
     "metadata": {},
     "output_type": "execute_result"
    }
   ],
   "source": [
    "import scipy.optimize as opt\n",
    "import numpy as np\n",
    "\n",
    "c = np.array([5,\n",
    "              2,\n",
    "              7,\n",
    "              3, \n",
    "              6,\n",
    "              6,\n",
    "              6,\n",
    "              1,\n",
    "              2\n",
    "             ])\n",
    "\n",
    "Aub = np.array([\n",
    "    [1, 1, 1, 0, 0, 0, 0, 0, 0],\n",
    "    [0, 0, 0, 1, 1, 1, 0, 0, 0],\n",
    "    [0, 0, 0, 0, 0, 0, 1, 1, 1]\n",
    "               ])\n",
    "\n",
    "bub = np.array([80,\n",
    "                40,\n",
    "                60\n",
    "               ])\n",
    "\n",
    "Aeq = np.array([\n",
    "    [1, 0, 0, 1, 0, 0, 1, 0, 0],\n",
    "    [0, 1, 0, 0, 1, 0, 0, 1, 0],\n",
    "    [0, 0, 1, 0, 0, 1, 0, 0, 1]\n",
    "])\n",
    "\n",
    "beq = np.array([70,\n",
    "                40,\n",
    "                70\n",
    "               ])\n",
    "\n",
    "opt.linprog (c, Aub, bub, Aeq, beq)"
   ]
  },
  {
   "cell_type": "markdown",
   "metadata": {},
   "source": [
    "El costo mínimo es de 540.\n",
    "- La planta 1 debe de mandar 30 millones de kw a Guadalajara, 40 millones de kw a León y 10 millones de kw a Morelia.\n",
    "- La planta 2 debe de mandar 40 millones de kw a Guadalajara, 0 millones de kw a León y 0 millones de kw a Morelia.\n",
    "- La planta 3 debe de mandar 0 millones de kw a Guadalajara, 0 millones de kw a León y 60 millones de kw a Morelia."
   ]
  }
 ],
 "metadata": {
  "kernelspec": {
   "display_name": "Python 3 (ipykernel)",
   "language": "python",
   "name": "python3"
  },
  "language_info": {
   "codemirror_mode": {
    "name": "ipython",
    "version": 3
   },
   "file_extension": ".py",
   "mimetype": "text/x-python",
   "name": "python",
   "nbconvert_exporter": "python",
   "pygments_lexer": "ipython3",
   "version": "3.9.13"
  }
 },
 "nbformat": 4,
 "nbformat_minor": 2
}
